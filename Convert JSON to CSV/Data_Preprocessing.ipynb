{
 "cells": [
  {
   "cell_type": "markdown",
   "id": "419a6a3b",
   "metadata": {},
   "source": [
    "# Convert JSON to CSV"
   ]
  },
  {
   "cell_type": "code",
   "execution_count": 4,
   "id": "2c798f1f",
   "metadata": {},
   "outputs": [],
   "source": [
    "import json\n",
    "from collections.abc import Iterable\n",
    "from pprint import pprint\n",
    "\n",
    "from tqdm import tqdm\n",
    "\n",
    "import pandas as pd\n",
    "import numpy as np"
   ]
  },
  {
   "cell_type": "markdown",
   "id": "cc56d6bf",
   "metadata": {},
   "source": [
    "## 1. Dataset 1: Yelp Covid"
   ]
  },
  {
   "cell_type": "code",
   "execution_count": 2,
   "id": "e2894fa3",
   "metadata": {},
   "outputs": [],
   "source": [
    "yelp = []\n",
    "for line in open('C:/Users/becky/OneDrive/Desktop/yelp/yelp_academic_dataset_covid_features.json', 'rb'):\n",
    "    yelp.append(json.loads(line))"
   ]
  },
  {
   "cell_type": "code",
   "execution_count": 5,
   "id": "8d63542a",
   "metadata": {},
   "outputs": [
    {
     "data": {
      "text/html": [
       "<div>\n",
       "<style scoped>\n",
       "    .dataframe tbody tr th:only-of-type {\n",
       "        vertical-align: middle;\n",
       "    }\n",
       "\n",
       "    .dataframe tbody tr th {\n",
       "        vertical-align: top;\n",
       "    }\n",
       "\n",
       "    .dataframe thead th {\n",
       "        text-align: right;\n",
       "    }\n",
       "</style>\n",
       "<table border=\"1\" class=\"dataframe\">\n",
       "  <thead>\n",
       "    <tr style=\"text-align: right;\">\n",
       "      <th></th>\n",
       "      <th>business_id</th>\n",
       "      <th>highlights</th>\n",
       "      <th>delivery or takeout</th>\n",
       "      <th>Grubhub enabled</th>\n",
       "      <th>Call To Action enabled</th>\n",
       "      <th>Request a Quote Enabled</th>\n",
       "      <th>Covid Banner</th>\n",
       "      <th>Temporary Closed Until</th>\n",
       "      <th>Virtual Services Offered</th>\n",
       "    </tr>\n",
       "  </thead>\n",
       "  <tbody>\n",
       "    <tr>\n",
       "      <th>0</th>\n",
       "      <td>9kXRUIkwdDtnAPO6tVo51g</td>\n",
       "      <td>FALSE</td>\n",
       "      <td>FALSE</td>\n",
       "      <td>FALSE</td>\n",
       "      <td>FALSE</td>\n",
       "      <td>FALSE</td>\n",
       "      <td>FALSE</td>\n",
       "      <td>FALSE</td>\n",
       "      <td>FALSE</td>\n",
       "    </tr>\n",
       "    <tr>\n",
       "      <th>1</th>\n",
       "      <td>H6D5HOTfMjrZt7r1EObZ1g</td>\n",
       "      <td>FALSE</td>\n",
       "      <td>FALSE</td>\n",
       "      <td>FALSE</td>\n",
       "      <td>FALSE</td>\n",
       "      <td>FALSE</td>\n",
       "      <td>FALSE</td>\n",
       "      <td>FALSE</td>\n",
       "      <td>FALSE</td>\n",
       "    </tr>\n",
       "    <tr>\n",
       "      <th>2</th>\n",
       "      <td>FYddq7fUtzobZcw4jOJgVA</td>\n",
       "      <td>FALSE</td>\n",
       "      <td>FALSE</td>\n",
       "      <td>FALSE</td>\n",
       "      <td>FALSE</td>\n",
       "      <td>FALSE</td>\n",
       "      <td>FALSE</td>\n",
       "      <td>FALSE</td>\n",
       "      <td>FALSE</td>\n",
       "    </tr>\n",
       "    <tr>\n",
       "      <th>3</th>\n",
       "      <td>c75jLTjlgA9q3gImLEGT6w</td>\n",
       "      <td>FALSE</td>\n",
       "      <td>FALSE</td>\n",
       "      <td>FALSE</td>\n",
       "      <td>FALSE</td>\n",
       "      <td>FALSE</td>\n",
       "      <td>FALSE</td>\n",
       "      <td>FALSE</td>\n",
       "      <td>FALSE</td>\n",
       "    </tr>\n",
       "    <tr>\n",
       "      <th>4</th>\n",
       "      <td>YfzPiY50h_10Sjlg3mnNWQ</td>\n",
       "      <td>FALSE</td>\n",
       "      <td>FALSE</td>\n",
       "      <td>FALSE</td>\n",
       "      <td>FALSE</td>\n",
       "      <td>FALSE</td>\n",
       "      <td>FALSE</td>\n",
       "      <td>FALSE</td>\n",
       "      <td>FALSE</td>\n",
       "    </tr>\n",
       "    <tr>\n",
       "      <th>...</th>\n",
       "      <td>...</td>\n",
       "      <td>...</td>\n",
       "      <td>...</td>\n",
       "      <td>...</td>\n",
       "      <td>...</td>\n",
       "      <td>...</td>\n",
       "      <td>...</td>\n",
       "      <td>...</td>\n",
       "      <td>...</td>\n",
       "    </tr>\n",
       "    <tr>\n",
       "      <th>209790</th>\n",
       "      <td>PAuSe4-JzDLq6YO6OKPeTg</td>\n",
       "      <td>FALSE</td>\n",
       "      <td>FALSE</td>\n",
       "      <td>FALSE</td>\n",
       "      <td>TRUE</td>\n",
       "      <td>FALSE</td>\n",
       "      <td>FALSE</td>\n",
       "      <td>FALSE</td>\n",
       "      <td>FALSE</td>\n",
       "    </tr>\n",
       "    <tr>\n",
       "      <th>209791</th>\n",
       "      <td>GQEe9qAe2alEA1zzRzUr0w</td>\n",
       "      <td>FALSE</td>\n",
       "      <td>FALSE</td>\n",
       "      <td>FALSE</td>\n",
       "      <td>FALSE</td>\n",
       "      <td>FALSE</td>\n",
       "      <td>FALSE</td>\n",
       "      <td>FALSE</td>\n",
       "      <td>FALSE</td>\n",
       "    </tr>\n",
       "    <tr>\n",
       "      <th>209792</th>\n",
       "      <td>T-PWmMvktw0nMNO4N5XLXA</td>\n",
       "      <td>FALSE</td>\n",
       "      <td>FALSE</td>\n",
       "      <td>FALSE</td>\n",
       "      <td>FALSE</td>\n",
       "      <td>FALSE</td>\n",
       "      <td>FALSE</td>\n",
       "      <td>FALSE</td>\n",
       "      <td>FALSE</td>\n",
       "    </tr>\n",
       "    <tr>\n",
       "      <th>209793</th>\n",
       "      <td>stVu6q5hDxQuppwoo6m0EQ</td>\n",
       "      <td>FALSE</td>\n",
       "      <td>FALSE</td>\n",
       "      <td>FALSE</td>\n",
       "      <td>TRUE</td>\n",
       "      <td>FALSE</td>\n",
       "      <td>FALSE</td>\n",
       "      <td>FALSE</td>\n",
       "      <td>FALSE</td>\n",
       "    </tr>\n",
       "    <tr>\n",
       "      <th>209794</th>\n",
       "      <td>UYig-qxG9zpzuMKns-1tDg</td>\n",
       "      <td>FALSE</td>\n",
       "      <td>FALSE</td>\n",
       "      <td>FALSE</td>\n",
       "      <td>FALSE</td>\n",
       "      <td>FALSE</td>\n",
       "      <td>FALSE</td>\n",
       "      <td>FALSE</td>\n",
       "      <td>FALSE</td>\n",
       "    </tr>\n",
       "  </tbody>\n",
       "</table>\n",
       "<p>209795 rows × 9 columns</p>\n",
       "</div>"
      ],
      "text/plain": [
       "                   business_id highlights delivery or takeout Grubhub enabled  \\\n",
       "0       9kXRUIkwdDtnAPO6tVo51g      FALSE               FALSE           FALSE   \n",
       "1       H6D5HOTfMjrZt7r1EObZ1g      FALSE               FALSE           FALSE   \n",
       "2       FYddq7fUtzobZcw4jOJgVA      FALSE               FALSE           FALSE   \n",
       "3       c75jLTjlgA9q3gImLEGT6w      FALSE               FALSE           FALSE   \n",
       "4       YfzPiY50h_10Sjlg3mnNWQ      FALSE               FALSE           FALSE   \n",
       "...                        ...        ...                 ...             ...   \n",
       "209790  PAuSe4-JzDLq6YO6OKPeTg      FALSE               FALSE           FALSE   \n",
       "209791  GQEe9qAe2alEA1zzRzUr0w      FALSE               FALSE           FALSE   \n",
       "209792  T-PWmMvktw0nMNO4N5XLXA      FALSE               FALSE           FALSE   \n",
       "209793  stVu6q5hDxQuppwoo6m0EQ      FALSE               FALSE           FALSE   \n",
       "209794  UYig-qxG9zpzuMKns-1tDg      FALSE               FALSE           FALSE   \n",
       "\n",
       "       Call To Action enabled Request a Quote Enabled Covid Banner  \\\n",
       "0                       FALSE                   FALSE        FALSE   \n",
       "1                       FALSE                   FALSE        FALSE   \n",
       "2                       FALSE                   FALSE        FALSE   \n",
       "3                       FALSE                   FALSE        FALSE   \n",
       "4                       FALSE                   FALSE        FALSE   \n",
       "...                       ...                     ...          ...   \n",
       "209790                   TRUE                   FALSE        FALSE   \n",
       "209791                  FALSE                   FALSE        FALSE   \n",
       "209792                  FALSE                   FALSE        FALSE   \n",
       "209793                   TRUE                   FALSE        FALSE   \n",
       "209794                  FALSE                   FALSE        FALSE   \n",
       "\n",
       "       Temporary Closed Until Virtual Services Offered  \n",
       "0                       FALSE                    FALSE  \n",
       "1                       FALSE                    FALSE  \n",
       "2                       FALSE                    FALSE  \n",
       "3                       FALSE                    FALSE  \n",
       "4                       FALSE                    FALSE  \n",
       "...                       ...                      ...  \n",
       "209790                  FALSE                    FALSE  \n",
       "209791                  FALSE                    FALSE  \n",
       "209792                  FALSE                    FALSE  \n",
       "209793                  FALSE                    FALSE  \n",
       "209794                  FALSE                    FALSE  \n",
       "\n",
       "[209795 rows x 9 columns]"
      ]
     },
     "execution_count": 5,
     "metadata": {},
     "output_type": "execute_result"
    }
   ],
   "source": [
    "data_covid = pd.DataFrame(yelp)\n",
    "data_covid"
   ]
  },
  {
   "cell_type": "code",
   "execution_count": 6,
   "id": "e98ca969",
   "metadata": {},
   "outputs": [],
   "source": [
    "data_covid.to_csv('C:/Users/becky/OneDrive/Desktop/yelp/yelp_covid.csv', index=False)"
   ]
  },
  {
   "cell_type": "markdown",
   "id": "10e68b61",
   "metadata": {},
   "source": [
    "## 2. Dataset 2: Yelp Business"
   ]
  },
  {
   "cell_type": "code",
   "execution_count": 7,
   "id": "23bb87e7",
   "metadata": {},
   "outputs": [],
   "source": [
    "def is_map(item):\n",
    "    if isinstance(item, Iterable):\n",
    "        return True\n",
    "    return False"
   ]
  },
  {
   "cell_type": "code",
   "execution_count": 8,
   "id": "256eccc3",
   "metadata": {},
   "outputs": [],
   "source": [
    "def try_dict(string):\n",
    "    try:\n",
    "        if isinstance(eval(string), dict):\n",
    "            return True\n",
    "        return False\n",
    "    except Exception:\n",
    "        return False"
   ]
  },
  {
   "cell_type": "code",
   "execution_count": 9,
   "id": "68270ad9",
   "metadata": {},
   "outputs": [],
   "source": [
    "def flatten_dict(dictionary, parent_key=\"\", sep=\"_\"):\n",
    "    items = []\n",
    "    if isinstance(dictionary, (float, str)):\n",
    "        # check if it is a dictionary\n",
    "        if try_dict(dictionary):\n",
    "            return flatten_dict(eval(dictionary), parent_key=parent_key, sep=sep)\n",
    "        items.append((parent_key, dictionary))\n",
    "        return dict(items)\n",
    "    for k, v in dictionary.items():\n",
    "        new_key = parent_key + sep + k if parent_key else k\n",
    "        if is_map(v):\n",
    "            items.extend(flatten_dict(v, new_key, sep=sep).items())\n",
    "        else:\n",
    "            items.append((new_key, v))\n",
    "    return dict(items)"
   ]
  },
  {
   "cell_type": "code",
   "execution_count": 10,
   "id": "9a3505c8",
   "metadata": {
    "scrolled": true
   },
   "outputs": [
    {
     "name": "stderr",
     "output_type": "stream",
     "text": [
      "100%|████████████████████████████████████████████████████████████████████████| 160585/160585 [00:23<00:00, 6719.11it/s]"
     ]
    },
    {
     "name": "stdout",
     "output_type": "stream",
     "text": [
      "{'address': '921 Pearl St',\n",
      " 'attributes_Alcohol': \"'beer_and_wine'\",\n",
      " 'attributes_Ambience_casual': True,\n",
      " 'attributes_Ambience_classy': False,\n",
      " 'attributes_Ambience_divey': False,\n",
      " 'attributes_Ambience_hipster': False,\n",
      " 'attributes_Ambience_intimate': False,\n",
      " 'attributes_Ambience_romantic': False,\n",
      " 'attributes_Ambience_touristy': False,\n",
      " 'attributes_Ambience_trendy': False,\n",
      " 'attributes_Ambience_upscale': False,\n",
      " 'attributes_BikeParking': 'True',\n",
      " 'attributes_BusinessAcceptsBitcoin': 'False',\n",
      " 'attributes_BusinessAcceptsCreditCards': 'True',\n",
      " 'attributes_BusinessParking_garage': False,\n",
      " 'attributes_BusinessParking_lot': False,\n",
      " 'attributes_BusinessParking_street': True,\n",
      " 'attributes_BusinessParking_valet': False,\n",
      " 'attributes_BusinessParking_validated': False,\n",
      " 'attributes_Caters': 'True',\n",
      " 'attributes_DogsAllowed': 'False',\n",
      " 'attributes_GoodForMeal_breakfast': False,\n",
      " 'attributes_GoodForMeal_brunch': False,\n",
      " 'attributes_GoodForMeal_dessert': False,\n",
      " 'attributes_GoodForMeal_dinner': False,\n",
      " 'attributes_GoodForMeal_latenight': False,\n",
      " 'attributes_GoodForMeal_lunch': False,\n",
      " 'attributes_HappyHour': 'True',\n",
      " 'attributes_HasTV': 'True',\n",
      " 'attributes_NoiseLevel': \"u'average'\",\n",
      " 'attributes_OutdoorSeating': 'True',\n",
      " 'attributes_RestaurantsAttire': \"'casual'\",\n",
      " 'attributes_RestaurantsDelivery': 'None',\n",
      " 'attributes_RestaurantsGoodForGroups': 'True',\n",
      " 'attributes_RestaurantsPriceRange2': '2',\n",
      " 'attributes_RestaurantsReservations': 'False',\n",
      " 'attributes_RestaurantsTableService': 'True',\n",
      " 'attributes_RestaurantsTakeOut': 'True',\n",
      " 'attributes_WheelchairAccessible': 'True',\n",
      " 'attributes_WiFi': \"u'free'\",\n",
      " 'business_id': '6iYb2HFDywm3zjuRg0shjw',\n",
      " 'categories': 'Gastropubs, Food, Beer Gardens, Restaurants, Bars, American '\n",
      "               '(Traditional), Beer Bar, Nightlife, Breweries',\n",
      " 'city': 'Boulder',\n",
      " 'hours_Friday': '11:0-23:0',\n",
      " 'hours_Monday': '11:0-23:0',\n",
      " 'hours_Saturday': '11:0-23:0',\n",
      " 'hours_Sunday': '11:0-23:0',\n",
      " 'hours_Thursday': '11:0-23:0',\n",
      " 'hours_Tuesday': '11:0-23:0',\n",
      " 'hours_Wednesday': '11:0-23:0',\n",
      " 'is_open': 1,\n",
      " 'latitude': 40.0175444,\n",
      " 'longitude': -105.2833481,\n",
      " 'name': 'Oskar Blues Taproom',\n",
      " 'postal_code': '80302',\n",
      " 'review_count': 86,\n",
      " 'stars': 4.0,\n",
      " 'state': 'CO'}\n"
     ]
    },
    {
     "name": "stderr",
     "output_type": "stream",
     "text": [
      "\n"
     ]
    }
   ],
   "source": [
    "with open(\"C:/Users/becky/OneDrive/Desktop/yelp/yelp_academic_dataset_business.json\", \"rb\") as f:\n",
    "    business = [x for x in [json.loads(line) for line in f] if isinstance(x, dict)]\n",
    "    flatten_business = [flatten_dict(x) for x in tqdm(business)]\n",
    "    pprint(flatten_business[0])"
   ]
  },
  {
   "cell_type": "code",
   "execution_count": 11,
   "id": "4c4860bd",
   "metadata": {},
   "outputs": [],
   "source": [
    "data_business = pd.DataFrame(flatten_business)"
   ]
  },
  {
   "cell_type": "code",
   "execution_count": 12,
   "id": "2604106d",
   "metadata": {},
   "outputs": [],
   "source": [
    "data_business.to_csv('C:/Users/becky/OneDrive/Desktop/yelp/yelp_business.csv', index=False)"
   ]
  },
  {
   "cell_type": "markdown",
   "id": "5da25b06",
   "metadata": {},
   "source": [
    "## Dataset 3: Yelp Review"
   ]
  },
  {
   "cell_type": "code",
   "execution_count": null,
   "id": "615d6570",
   "metadata": {},
   "outputs": [],
   "source": [
    "review = []\n",
    "for line in open('C:/Users/becky/OneDrive/Desktop/yelp/yelp_academic_dataset_review.json', 'rb'):\n",
    "    review.append(json.loads(line))"
   ]
  },
  {
   "cell_type": "code",
   "execution_count": null,
   "id": "3a9c2191",
   "metadata": {},
   "outputs": [],
   "source": [
    "data_review = pd.DataFrame(review)"
   ]
  },
  {
   "cell_type": "code",
   "execution_count": null,
   "id": "1f203d1b",
   "metadata": {},
   "outputs": [],
   "source": [
    "data_review.to_csv('C:/Users/becky/OneDrive/Desktop/yelp/yelp_review.csv', index=False)"
   ]
  },
  {
   "cell_type": "code",
   "execution_count": null,
   "id": "4ee24313",
   "metadata": {},
   "outputs": [],
   "source": []
  },
  {
   "cell_type": "code",
   "execution_count": null,
   "id": "b1609e35",
   "metadata": {},
   "outputs": [],
   "source": []
  },
  {
   "cell_type": "code",
   "execution_count": null,
   "id": "83b581af",
   "metadata": {},
   "outputs": [],
   "source": []
  },
  {
   "cell_type": "code",
   "execution_count": null,
   "id": "31069989",
   "metadata": {},
   "outputs": [],
   "source": []
  },
  {
   "cell_type": "code",
   "execution_count": null,
   "id": "aa6226f4",
   "metadata": {},
   "outputs": [],
   "source": []
  }
 ],
 "metadata": {
  "kernelspec": {
   "display_name": "Python 3",
   "language": "python",
   "name": "python3"
  },
  "language_info": {
   "codemirror_mode": {
    "name": "ipython",
    "version": 3
   },
   "file_extension": ".py",
   "mimetype": "text/x-python",
   "name": "python",
   "nbconvert_exporter": "python",
   "pygments_lexer": "ipython3",
   "version": "3.8.10"
  }
 },
 "nbformat": 4,
 "nbformat_minor": 5
}
